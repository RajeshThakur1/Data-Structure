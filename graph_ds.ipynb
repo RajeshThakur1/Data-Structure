{
  "cells": [
    {
      "cell_type": "code",
      "execution_count": null,
      "metadata": {
        "colab": {
          "base_uri": "https://localhost:8080/"
        },
        "id": "XHOHlz4yYo5W",
        "outputId": "df2d80f7-5892-460f-93c8-a74d6f1e4509"
      },
      "outputs": [
        {
          "name": "stdout",
          "output_type": "stream",
          "text": [
            "Graph Dict: {'mumbai': ['paris', 'dubai'], 'paris': ['dubai', 'new york'], 'dubai': ['new york'], 'new york': ['toronto']}\n",
            "[('mumbai', 'paris'), ('mumbai', 'dubai'), ('paris', 'dubai'), ('paris', 'new york'), ('dubai', 'new york'), ('new york', 'toronto')]\n"
          ]
        }
      ],
      "source": [
        "class Graph:\n",
        "  def __init__(self, edges):\n",
        "    self.edges = edges\n",
        "    self.graph_dict = {}\n",
        "    for start, end in self.edges:\n",
        "      if start in self.graph_dict:\n",
        "        self.graph_dict[start].append(end)\n",
        "      else:\n",
        "        self.graph_dict[start] = [end]\n",
        "    print(\"Graph Dict:\", self.graph_dict)\n",
        "\n",
        "  def get_path(self, start, end, path = []):\n",
        "    path = path + [start]\n",
        "    if start == end:\n",
        "      return [start]\n",
        "    if start not in self.graph_dict:\n",
        "      return []\n",
        "\n",
        "    paths = []\n",
        "    for node in self.graph_dict[start]:\n",
        "      if node not in path:\n",
        "        new_path = self.get_path(start, end , path)\n",
        "        for p in new_path:\n",
        "          paths.append(p)\n",
        "    return paths\n",
        "\n",
        "if __name__ == \"__main__\":\n",
        "  routes = [\n",
        "      ('mumbai', 'paris'),\n",
        "      ('mumbai', 'dubai'),\n",
        "      ('paris', 'dubai'),\n",
        "      ('paris', 'new york'),\n",
        "      ('dubai', 'new york'),\n",
        "      ('new york', 'toronto')\n",
        "  ]\n",
        "  route_graph = Graph(routes)\n",
        "  print(route_graph.edges)\n"
      ]
    },
    {
      "cell_type": "markdown",
      "metadata": {},
      "source": [
        "# Anoter way to define the Graph Data structure\n"
      ]
    },
    {
      "cell_type": "code",
      "execution_count": 4,
      "metadata": {
        "id": "9xSepHARZGqK"
      },
      "outputs": [
        {
          "data": {
            "text/plain": [
              "Graph(nodes=['A', 'B', 'C', 'D'], edges=[('A', 'B'), ('A', 'C'), ('A', 'D'), ('B', 'A'), ('B', 'D'), ('C', 'A'), ('C', 'D')])"
            ]
          },
          "execution_count": 4,
          "metadata": {},
          "output_type": "execute_result"
        }
      ],
      "source": [
        "from collections import namedtuple\n",
        "Graph = namedtuple('Graph', ['nodes', 'edges'])\n",
        "\n",
        "nodes = ['A', 'B', 'C', 'D']\n",
        "edges = [\n",
        "    ('A', 'B'),\n",
        "    ('A', 'C'),\n",
        "    ('A', 'D'),\n",
        "    ('B', 'A'),\n",
        "    ('B', 'D'),\n",
        "    ('C', 'A'),\n",
        "    ('C', 'D')\n",
        "\n",
        "]\n",
        "G = Graph(nodes, edges)\n",
        "G\n"
      ]
    },
    {
      "cell_type": "code",
      "execution_count": 5,
      "metadata": {},
      "outputs": [],
      "source": [
        "def adgency_dict(graph):\n",
        "    \"\"\"\n",
        "    Return the Adguncy list og the graph\n",
        "    \"\"\"\n",
        "    adg = {node:[] for node in graph.nodes}\n",
        "\n",
        "    for edge in graph.edges:\n",
        "        node1, node2 = edge[0], edge[1]\n",
        "        adg[node1].append(node2)\n",
        "        adg[node2].append(node1)\n",
        "    return adg\n"
      ]
    },
    {
      "cell_type": "code",
      "execution_count": 6,
      "metadata": {},
      "outputs": [
        {
          "data": {
            "text/plain": [
              "{'A': ['B', 'C', 'D', 'B', 'C'],\n",
              " 'B': ['A', 'A', 'D'],\n",
              " 'C': ['A', 'A', 'D'],\n",
              " 'D': ['A', 'B', 'C']}"
            ]
          },
          "execution_count": 6,
          "metadata": {},
          "output_type": "execute_result"
        }
      ],
      "source": [
        "adgency_dict(G)"
      ]
    },
    {
      "cell_type": "markdown",
      "metadata": {},
      "source": [
        "# get the adgency matrics"
      ]
    },
    {
      "cell_type": "code",
      "execution_count": 8,
      "metadata": {},
      "outputs": [
        {
          "data": {
            "text/plain": [
              "[[0, 0, 0, 0], [0, 0, 0, 0], [0, 0, 0, 0], [0, 0, 0, 0]]"
            ]
          },
          "execution_count": 8,
          "metadata": {},
          "output_type": "execute_result"
        }
      ],
      "source": [
        "[[0 for node in G.nodes] for node in G.nodes]"
      ]
    },
    {
      "cell_type": "code",
      "execution_count": 10,
      "metadata": {},
      "outputs": [
        {
          "data": {
            "text/plain": [
              "Graph(nodes=[0, 1, 2, 3], edges=[(0, 1), (0, 2), (0, 3), (1, 0), (1, 3), (2, 0), (2, 3)])"
            ]
          },
          "execution_count": 10,
          "metadata": {},
          "output_type": "execute_result"
        }
      ],
      "source": [
        "from collections import namedtuple\n",
        "Graph = namedtuple('Graph', ['nodes', 'edges'])\n",
        "\n",
        "nodes = [0, 1, 2, 3]\n",
        "edges = [\n",
        "    (0, 1),\n",
        "    (0, 2),\n",
        "    (0, 3),\n",
        "    (1, 0),\n",
        "    (1, 3),\n",
        "    (2, 0),\n",
        "    (2, 3)\n",
        "\n",
        "]\n",
        "G = Graph(nodes, edges)\n",
        "G\n"
      ]
    },
    {
      "cell_type": "code",
      "execution_count": 11,
      "metadata": {},
      "outputs": [
        {
          "data": {
            "text/plain": [
              "[[0, 2, 2, 1], [2, 0, 0, 1], [2, 0, 0, 1], [1, 1, 1, 0]]"
            ]
          },
          "execution_count": 11,
          "metadata": {},
          "output_type": "execute_result"
        }
      ],
      "source": [
        "def adgency_matrics(graph):\n",
        "    \"\"\"\n",
        "    Return the Adgency Matrics of the graph\n",
        "\n",
        "    \"\"\"\n",
        "\n",
        "    adg = [[0 for node in graph.nodes] for node in graph.nodes]\n",
        "    for edge in graph.edges:\n",
        "        node1, node2 = edge[0], edge[1]\n",
        "        adg[node1][node2] += 1\n",
        "        adg[node2][node1] += 1\n",
        "    return adg\n",
        "\n",
        "adgency_matrics(G)\n"
      ]
    },
    {
      "cell_type": "markdown",
      "metadata": {},
      "source": [
        "# Adgency Matric for the directed graph"
      ]
    },
    {
      "cell_type": "code",
      "execution_count": 14,
      "metadata": {},
      "outputs": [],
      "source": [
        "from collections import namedtuple\n",
        "Graph = namedtuple('Graph', ['nodes', 'edges', 'is_directed'])\n",
        "\n",
        "nodes = [0, 1, 2]\n",
        "edges = [\n",
        "    (1, 0),\n",
        "    (1, 2),\n",
        "    (0, 2)\n",
        "\n",
        "]\n",
        "G = Graph(nodes, edges, False)"
      ]
    },
    {
      "cell_type": "code",
      "execution_count": 20,
      "metadata": {},
      "outputs": [],
      "source": [
        "\n",
        "\n",
        "def adgency_dict(graph):\n",
        "    adj = {node:[] for node in graph.nodes}\n",
        "\n",
        "    for edge in graph.edges:\n",
        "        node1, node2 = edge[0], edge[1]\n",
        "        adj[node1].append(node2)\n",
        "        if not graph.is_directed:\n",
        "            adj[node2].append(node1)\n",
        "    return adj\n",
        "\n",
        "\n",
        "def adgency_matrics(graph):\n",
        "    \"\"\"\n",
        "    Return the Adgency Matrics of the graph\n",
        "\n",
        "    \"\"\"\n",
        "\n",
        "    adg = [[0 for node in graph.nodes] for node in graph.nodes]\n",
        "    for edge in graph.edges:\n",
        "        node1, node2 = edge[0], edge[1]\n",
        "        adg[node1][node2] += 1\n",
        "        if not graph.is_directed:\n",
        "            adg[node2][node1] += 1\n",
        "    return adg"
      ]
    },
    {
      "cell_type": "code",
      "execution_count": 21,
      "metadata": {},
      "outputs": [
        {
          "data": {
            "text/plain": [
              "{0: [1, 2], 1: [0, 2], 2: [1, 0]}"
            ]
          },
          "execution_count": 21,
          "metadata": {},
          "output_type": "execute_result"
        }
      ],
      "source": [
        "adgency_dict(G)"
      ]
    },
    {
      "cell_type": "code",
      "execution_count": 22,
      "metadata": {},
      "outputs": [
        {
          "data": {
            "text/plain": [
              "[[0, 1, 1], [1, 0, 1], [1, 1, 0]]"
            ]
          },
          "execution_count": 22,
          "metadata": {},
          "output_type": "execute_result"
        }
      ],
      "source": [
        "adgency_matrics(G)"
      ]
    },
    {
      "cell_type": "code",
      "execution_count": null,
      "metadata": {},
      "outputs": [],
      "source": []
    }
  ],
  "metadata": {
    "colab": {
      "provenance": []
    },
    "kernelspec": {
      "display_name": "agentic_ai_new",
      "language": "python",
      "name": "python3"
    },
    "language_info": {
      "codemirror_mode": {
        "name": "ipython",
        "version": 3
      },
      "file_extension": ".py",
      "mimetype": "text/x-python",
      "name": "python",
      "nbconvert_exporter": "python",
      "pygments_lexer": "ipython3",
      "version": "3.11.9"
    }
  },
  "nbformat": 4,
  "nbformat_minor": 0
}
