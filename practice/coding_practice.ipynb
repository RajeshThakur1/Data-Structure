{
 "cells": [
  {
   "cell_type": "markdown",
   "id": "40570691-5221-4491-9a1c-fa23bfa75654",
   "metadata": {},
   "source": [
    "'''\n",
    "\tGiven a string, find the length of the longest substring without repeating characters.\n",
    "\n",
    "\tExamples:\n",
    "\n",
    "\tGiven \"abcabcbb\", the answer is \"abc\", which the length is 3.\n",
    "\n",
    "\tGiven \"bbbbb\", the answer is \"b\", with the length of 1.\n",
    "\n",
    "\tGiven \"pwwkew\", the answer is \"wke\", with the length of 3. Note that the answer must be a substring, \"pwke\" is a subsequence and not a substring.\n",
    "'''"
   ]
  },
  {
   "cell_type": "code",
   "execution_count": null,
   "id": "8cd1ae33-11af-4325-8180-e87cac6dc628",
   "metadata": {},
   "outputs": [],
   "source": [
    "class Solution(object):\n",
    "    \n",
    "    def lengthOfLongestSybstrin(self, s):\n",
    "        mapSet = {}\n",
    "        start, result = 0, 0 \n",
    "        for end in range(len(s)):\n",
    "            if s[end] in mapSet:\n",
    "                start = max(mapSet[s[end]], start)\n",
    "            result = max(result, end-start+1)\n",
    "            mapSet[s[end]] = end +1\n",
    "\n",
    "        return result\n",
    "\n",
    "        "
   ]
  },
  {
   "cell_type": "code",
   "execution_count": null,
   "id": "cd85d373",
   "metadata": {},
   "outputs": [],
   "source": []
  }
 ],
 "metadata": {
  "kernelspec": {
   "display_name": "Python 3 (ipykernel)",
   "language": "python",
   "name": "python3"
  },
  "language_info": {
   "codemirror_mode": {
    "name": "ipython",
    "version": 3
   },
   "file_extension": ".py",
   "mimetype": "text/x-python",
   "name": "python",
   "nbconvert_exporter": "python",
   "pygments_lexer": "ipython3",
   "version": "3.11.10"
  }
 },
 "nbformat": 4,
 "nbformat_minor": 5
}
